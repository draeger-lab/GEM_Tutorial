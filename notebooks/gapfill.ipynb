{
 "cells": [
  {
   "cell_type": "code",
   "execution_count": 7,
   "metadata": {},
   "outputs": [],
   "source": [
    "# Imports\n",
    "from refinegems.classes.gapfill import BioCycGapFiller, GeneGapFiller, KEGGapFiller\n",
    "from refinegems.curation.curate import extend_gp_annots_via_KEGG\n",
    "from refinegems.utility.io import load_model, write_model_to_file\n",
    "from refinegems.utility.set_up import download_url # For downloading the uniprot file for the GeneGapFiller"
   ]
  },
  {
   "cell_type": "code",
   "execution_count": 8,
   "metadata": {},
   "outputs": [
    {
     "name": "stderr",
     "output_type": "stream",
     "text": [
      "INFO:cobra.core.model:The current solver interface glpk doesn't support setting the optimality tolerance.\n"
     ]
    }
   ],
   "source": [
    "# Get model file loaded with COBRA (for missing reactions) & libSBML\n",
    "model_file = '../data/iJN1463.xml'\n",
    "model = load_model(model_file,'libsbml')\n",
    "cmodel = load_model(model_file,'cobra')"
   ]
  },
  {
   "cell_type": "markdown",
   "metadata": {},
   "source": [
    "## KEGGapFiller\n",
    "The KEGGapFiller infers missing genes by querying the gene entries for the organism in question in the [Kyoto Encyclopedia of Genes and Genomes (KEGG) database](https://www.genome.jp/kegg/). From the so found missing genes the missing reactions and metabolites are determined and added to the model via the `fill_model` function.\n",
    "\n",
    "**Requirements:**\n",
    "- The modelled organism needs to have an entry in the KEGG database.\n",
    "- The model needs to contain the locus_tag from NCBI Genbank in the label attribute of the GeneProduct entities.\n",
    "- The model needs to be loaded as libSBML and COBRApy objects as all methods except `find_missing_reactions`, which requires a COBRApy model object, require a libSBML model object.\n",
    "\n",
    "\n",
    "### Initialisation"
   ]
  },
  {
   "cell_type": "code",
   "execution_count": 10,
   "metadata": {},
   "outputs": [
    {
     "name": "stderr",
     "output_type": "stream",
     "text": [
      "INFO:root:Trying to add KEGG Gene IDs and UniProt IDs to GeneProducts...\n"
     ]
    },
    {
     "data": {
      "application/vnd.jupyter.widget-view+json": {
       "model_id": "f786b4e24d124f548c6a88f359433fac",
       "version_major": 2,
       "version_minor": 0
      },
      "text/plain": [
       "  0%|          | 0/1462 [00:00<?, ?it/s]"
      ]
     },
     "metadata": {},
     "output_type": "display_data"
    },
    {
     "name": "stderr",
     "output_type": "stream",
     "text": [
      "INFO:refinegems.curation.curate:The following 22 locus tags form no valid KEGG Gene ID: ['pWW0_096', 'pWW0_097', 'PP_s0001', 'PP_3462', 'PP_0253', 'pWW0_093', 'pWW0_102', 'pWW0_095', 'pWW0_101', 'PP_2519', 'pWW0_128', 'PP_3465', 'pWW0_092', 'pWW0_131', 'pWW0_129', 'pWW0_094', 'pWW0_099', 'pWW0_100', 'pWW0_090', 'pWW0_130', 'pWW0_127', 'pWW0_091'] with the provided KEGG Organism ID: ppu.\n"
     ]
    }
   ],
   "source": [
    "# If the provided model has no KEGG Gene IDs in the annotations, these need to be added to run the KEGGapFiller.\n",
    "# Add KEGG Gene IDs\n",
    "extend_gp_annots_via_KEGG(model.getPlugin('fbc').getListOfGeneProducts(), 'ppu')"
   ]
  },
  {
   "cell_type": "code",
   "execution_count": 12,
   "metadata": {},
   "outputs": [],
   "source": [
    "# Initialise GapFiller subclass to be used with required parameters\n",
    "gfk = KEGGapFiller('ppu')"
   ]
  },
  {
   "cell_type": "markdown",
   "metadata": {},
   "source": [
    "### Missing genes"
   ]
  },
  {
   "cell_type": "code",
   "execution_count": 13,
   "metadata": {},
   "outputs": [
    {
     "name": "stderr",
     "output_type": "stream",
     "text": [
      "100%|██████████| 4346/4346 [1:29:10<00:00,  1.23s/it]\n"
     ]
    },
    {
     "data": {
      "text/html": [
       "<div>\n",
       "<style scoped>\n",
       "    .dataframe tbody tr th:only-of-type {\n",
       "        vertical-align: middle;\n",
       "    }\n",
       "\n",
       "    .dataframe tbody tr th {\n",
       "        vertical-align: top;\n",
       "    }\n",
       "\n",
       "    .dataframe thead th {\n",
       "        text-align: right;\n",
       "    }\n",
       "</style>\n",
       "<table border=\"1\" class=\"dataframe\">\n",
       "  <thead>\n",
       "    <tr style=\"text-align: right;\">\n",
       "      <th></th>\n",
       "      <th>orgid:locus</th>\n",
       "      <th>locus_tag</th>\n",
       "      <th>kegg.orthology</th>\n",
       "      <th>ec-code</th>\n",
       "      <th>ncbiprotein</th>\n",
       "      <th>uniprot</th>\n",
       "    </tr>\n",
       "  </thead>\n",
       "  <tbody>\n",
       "    <tr>\n",
       "      <th>0</th>\n",
       "      <td>ppu:PP_0001</td>\n",
       "      <td>PP_0001</td>\n",
       "      <td>[K03497]</td>\n",
       "      <td>None</td>\n",
       "      <td>AAN65635</td>\n",
       "      <td>[P0A151]</td>\n",
       "    </tr>\n",
       "    <tr>\n",
       "      <th>1</th>\n",
       "      <td>ppu:PP_0002</td>\n",
       "      <td>PP_0002</td>\n",
       "      <td>[K03496]</td>\n",
       "      <td>None</td>\n",
       "      <td>AAN65636</td>\n",
       "      <td>[P0A149]</td>\n",
       "    </tr>\n",
       "    <tr>\n",
       "      <th>2</th>\n",
       "      <td>ppu:PP_0003</td>\n",
       "      <td>PP_0003</td>\n",
       "      <td>[K03501]</td>\n",
       "      <td>[2.1.1.170]</td>\n",
       "      <td>AAN65637</td>\n",
       "      <td>[P0A124]</td>\n",
       "    </tr>\n",
       "    <tr>\n",
       "      <th>3</th>\n",
       "      <td>ppu:PP_0004</td>\n",
       "      <td>PP_0004</td>\n",
       "      <td>[K03495]</td>\n",
       "      <td>None</td>\n",
       "      <td>AAN65638</td>\n",
       "      <td>[Q88RW8]</td>\n",
       "    </tr>\n",
       "    <tr>\n",
       "      <th>4</th>\n",
       "      <td>ppu:PP_0005</td>\n",
       "      <td>PP_0005</td>\n",
       "      <td>[K03650]</td>\n",
       "      <td>[3.6.-.-]</td>\n",
       "      <td>AAN65639</td>\n",
       "      <td>[P0A175]</td>\n",
       "    </tr>\n",
       "    <tr>\n",
       "      <th>...</th>\n",
       "      <td>...</td>\n",
       "      <td>...</td>\n",
       "      <td>...</td>\n",
       "      <td>...</td>\n",
       "      <td>...</td>\n",
       "      <td>...</td>\n",
       "    </tr>\n",
       "    <tr>\n",
       "      <th>4341</th>\n",
       "      <td>ppu:PP_5405</td>\n",
       "      <td>PP_5405</td>\n",
       "      <td>NaN</td>\n",
       "      <td>None</td>\n",
       "      <td>AAN70969</td>\n",
       "      <td>[Q88BY2]</td>\n",
       "    </tr>\n",
       "    <tr>\n",
       "      <th>4342</th>\n",
       "      <td>ppu:PP_5406</td>\n",
       "      <td>PP_5406</td>\n",
       "      <td>NaN</td>\n",
       "      <td>None</td>\n",
       "      <td>AAN70970</td>\n",
       "      <td>[Q88BY1]</td>\n",
       "    </tr>\n",
       "    <tr>\n",
       "      <th>4343</th>\n",
       "      <td>ppu:PP_5407</td>\n",
       "      <td>PP_5407</td>\n",
       "      <td>NaN</td>\n",
       "      <td>None</td>\n",
       "      <td>AAN70971</td>\n",
       "      <td>[Q88BY0]</td>\n",
       "    </tr>\n",
       "    <tr>\n",
       "      <th>4344</th>\n",
       "      <td>ppu:PP_5408</td>\n",
       "      <td>PP_5408</td>\n",
       "      <td>NaN</td>\n",
       "      <td>None</td>\n",
       "      <td>AAN70972</td>\n",
       "      <td>[Q88BX9]</td>\n",
       "    </tr>\n",
       "    <tr>\n",
       "      <th>4345</th>\n",
       "      <td>ppu:PP_5410</td>\n",
       "      <td>PP_5410</td>\n",
       "      <td>NaN</td>\n",
       "      <td>None</td>\n",
       "      <td>AAN70974</td>\n",
       "      <td>[Q88BX7]</td>\n",
       "    </tr>\n",
       "  </tbody>\n",
       "</table>\n",
       "<p>4346 rows × 6 columns</p>\n",
       "</div>"
      ],
      "text/plain": [
       "      orgid:locus locus_tag kegg.orthology      ec-code ncbiprotein   uniprot\n",
       "0     ppu:PP_0001   PP_0001       [K03497]         None    AAN65635  [P0A151]\n",
       "1     ppu:PP_0002   PP_0002       [K03496]         None    AAN65636  [P0A149]\n",
       "2     ppu:PP_0003   PP_0003       [K03501]  [2.1.1.170]    AAN65637  [P0A124]\n",
       "3     ppu:PP_0004   PP_0004       [K03495]         None    AAN65638  [Q88RW8]\n",
       "4     ppu:PP_0005   PP_0005       [K03650]    [3.6.-.-]    AAN65639  [P0A175]\n",
       "...           ...       ...            ...          ...         ...       ...\n",
       "4341  ppu:PP_5405   PP_5405            NaN         None    AAN70969  [Q88BY2]\n",
       "4342  ppu:PP_5406   PP_5406            NaN         None    AAN70970  [Q88BY1]\n",
       "4343  ppu:PP_5407   PP_5407            NaN         None    AAN70971  [Q88BY0]\n",
       "4344  ppu:PP_5408   PP_5408            NaN         None    AAN70972  [Q88BX9]\n",
       "4345  ppu:PP_5410   PP_5410            NaN         None    AAN70974  [Q88BX7]\n",
       "\n",
       "[4346 rows x 6 columns]"
      ]
     },
     "execution_count": 13,
     "metadata": {},
     "output_type": "execute_result"
    }
   ],
   "source": [
    "# Find missing genes\n",
    "gfk.find_missing_genes(model)\n",
    "\n",
    "# Get/show missing genes\n",
    "gfk.missing_genes"
   ]
  },
  {
   "cell_type": "markdown",
   "metadata": {},
   "source": [
    "### Missing reactions"
   ]
  },
  {
   "cell_type": "code",
   "execution_count": null,
   "metadata": {},
   "outputs": [],
   "source": [
    "# Find missing reactions\n",
    "gfk.find_missing_reactions(cmodel)\n",
    "\n",
    "# Get/show missing reactions\n",
    "gfk.missing_reactions"
   ]
  },
  {
   "cell_type": "markdown",
   "metadata": {},
   "source": [
    "### Fill model"
   ]
  },
  {
   "cell_type": "code",
   "execution_count": null,
   "metadata": {},
   "outputs": [],
   "source": [
    "# Fill model\n",
    "model = gfk.fill_model(model)"
   ]
  },
  {
   "cell_type": "code",
   "execution_count": null,
   "metadata": {},
   "outputs": [],
   "source": [
    "write_model_to_file(model, '../data/iJN1463_filled.xml')"
   ]
  },
  {
   "cell_type": "markdown",
   "metadata": {},
   "source": [
    "### Statistics"
   ]
  },
  {
   "cell_type": "code",
   "execution_count": null,
   "metadata": {},
   "outputs": [],
   "source": [
    "# Get raw statistics\n",
    "gfk.report('../data/')"
   ]
  },
  {
   "cell_type": "markdown",
   "metadata": {},
   "source": [
    "## GeneGapFiller\n",
    "The GeneGapFiller infers missing genes by querying the gene entries for the organism in question in the GFF file. From the so found missing genes the missing reactions and metabolites are determined and added to the model via the `fill_model` function.\n",
    "\n",
    "**Requirements:**\n",
    "- For the modelled organism a GFF file needs to exist.\n",
    "- A database to be queried needs to be provided. The user can download a SwissProt DIAMOND database including a mapping table from UniProt IDs to EC Numbers. Additionally, a user DIAMOND database with or without a mapping can be provided.\n",
    "- The model needs to contain the locus tag from NCBI Genbank in the label attribute of the GeneProduct entities.\n",
    "- The model needs to be loaded as libSBML and COBRApy objects as all methods except `find_missing_reactions`, which requires a COBRApy model object, require a libSBML model object.\n",
    "\n",
    "### Initialisation\n",
    "#### Get SwissProt DIAMOND database"
   ]
  },
  {
   "cell_type": "code",
   "execution_count": null,
   "metadata": {},
   "outputs": [],
   "source": [
    "# The following part can be used to acquire the UniProt database for the GeneGapFiller.\n",
    "# It is not necessary to run this part as a database file for the workshop is provided under `../data/Uniprot`.\n",
    "\n",
    "# Get UniProt database\n",
    "# download_url('SwissProt gapfill', directory='../data/swissprot_data/')\n",
    "\n",
    "# On the command line:\n",
    "# diamond makedb --in ./dev/test_files/test_gapfill/SwissProt.fasta -d ./dev/test_files/test_gapfill/swissprot"
   ]
  },
  {
   "cell_type": "markdown",
   "metadata": {},
   "source": [
    "#### Initialise GeneGapFiller"
   ]
  },
  {
   "cell_type": "code",
   "execution_count": null,
   "metadata": {},
   "outputs": [],
   "source": [
    "# Get files required for the GeneGapFiller\n",
    "gffpath = '../data/GCA_000007565.2_ASM756v2_genomic.gff'\n",
    "\n",
    "tfasta = '../data/GCA_000007565.2_ASM756v2_translated_cds.faa'\n",
    "spdb = '../data/Uniprot/uniprot_subset.dmnd'\n",
    "spmap = '../data/Uniprot/uniprot_subset.tsv'\n",
    "kwargs = {'outdir':'../data/genegapfill_out/',\n",
    "          'sens':'more-sensitive',\n",
    "          'cov':95.0,\n",
    "          't':4,\n",
    "          'pid':90.0}\n",
    "\n",
    "# Initialise GapFiller subclass to be used with required parameters\n",
    "gfg = GeneGapFiller()"
   ]
  },
  {
   "cell_type": "markdown",
   "metadata": {},
   "source": [
    "### Missing genes"
   ]
  },
  {
   "cell_type": "code",
   "execution_count": null,
   "metadata": {},
   "outputs": [],
   "source": [
    "# Find missing genes\n",
    "gfg.find_missing_genes(gffpath,model)\n",
    "\n",
    "# Get/show missing genes\n",
    "gfg.missing_genes\n"
   ]
  },
  {
   "cell_type": "markdown",
   "metadata": {},
   "source": [
    "### Missing reactions"
   ]
  },
  {
   "cell_type": "code",
   "execution_count": null,
   "metadata": {},
   "outputs": [],
   "source": [
    "# Find missing reactions\n",
    "gfg.find_missing_reactions(model=cmodel,\n",
    "                           type_db='swissprot',\n",
    "                           fasta=tfasta,\n",
    "                           dmnd_db=spdb,\n",
    "                           map_db=spmap,\n",
    "                           mail='gwendolyn-olivia.doebel@informatik.uni-halle.de',\n",
    "                           check_NCBI=True,\n",
    "                           **kwargs)\n",
    "\n",
    "# Get/show missing reactions\n",
    "gfg.missing_reactions"
   ]
  },
  {
   "cell_type": "markdown",
   "metadata": {},
   "source": [
    "### Fill model"
   ]
  },
  {
   "cell_type": "code",
   "execution_count": null,
   "metadata": {},
   "outputs": [],
   "source": [
    "# Fill model\n",
    "model = gfg.fill_model(model,formula_check='existence')"
   ]
  },
  {
   "cell_type": "code",
   "execution_count": null,
   "metadata": {},
   "outputs": [],
   "source": [
    "write_model_to_file(model, '../data/iJN1463_filled.xml')"
   ]
  },
  {
   "cell_type": "markdown",
   "metadata": {},
   "source": [
    "### Statistics"
   ]
  },
  {
   "cell_type": "code",
   "execution_count": null,
   "metadata": {},
   "outputs": [],
   "source": [
    "# Get raw statistics\n",
    "gfg.report('../data/')"
   ]
  },
  {
   "cell_type": "markdown",
   "metadata": {},
   "source": [
    "# BioCycGapFiller\n",
    "The BioCycGapFiller infers missing genes by querying the gene entries for the organism in question in the [BioCyc database](https://biocyc.org/). From the so found missing genes the missing reactions and metabolites are determined and added to the model via the `fill_model` function.\n",
    "\n",
    "**Requirements:**\n",
    "- The modelled organism needs to have an entry in the BioCyc database.\n",
    "- For the organism a gene to reaction mapping table and a reaction table containing the EC Numbers along with the specification if the reaction is spontaneous or not need to be created and downloaded from BioCyc. \n",
    "*Note:* For this workshop see `../data/biocyc/`.\n",
    "- The model needs to contain the locus tag from NCBI Genbank in the label attribute of the GeneProduct entities.\n",
    "- The model needs to be loaded as libSBML and COBRApy objects as all methods except `find_missing_reactions`, which requires a COBRApy model object, require a libSBML model object.\n",
    "\n",
    "## Initialisation"
   ]
  },
  {
   "cell_type": "code",
   "execution_count": null,
   "metadata": {},
   "outputs": [],
   "source": [
    "# Get files required for the BioCycGapFiller\n",
    "gffpath = '../data/GCA_000007565.2_ASM756v2_genomic.gff'\n",
    "biocyc_gene_tbl_path = '../data/biocyc/PputKT2440_Accession-22Reactions.tsv'\n",
    "biocyc_reacs_tbl_path = '../data/biocyc/PputKT2440_biocyc_rxns.tsv'\n",
    "fasta = '../data/GCA_000007565.2_ASM756v2_translated_cds.faa'\n",
    "\n",
    "# Initialise GapFiller subclass to be used with required parameters\n",
    "gfbc = BioCycGapFiller(biocyc_gene_tbl_path, biocyc_reacs_tbl_path, gffpath)"
   ]
  },
  {
   "cell_type": "markdown",
   "metadata": {},
   "source": [
    "### Missing genes"
   ]
  },
  {
   "cell_type": "code",
   "execution_count": null,
   "metadata": {},
   "outputs": [],
   "source": [
    "# Find missing genes\n",
    "gfbc.find_missing_genes(model)\n",
    "\n",
    "# Get/show missing genes\n",
    "gfbc.missing_genes"
   ]
  },
  {
   "cell_type": "markdown",
   "metadata": {},
   "source": [
    "### Missing reactions"
   ]
  },
  {
   "cell_type": "code",
   "execution_count": null,
   "metadata": {},
   "outputs": [],
   "source": [
    "# Find missing reactions\n",
    "gfbc.find_missing_reactions(cmodel)\n",
    "\n",
    "# Get/show missing reactions\n",
    "gfbc.missing_reactions"
   ]
  },
  {
   "cell_type": "markdown",
   "metadata": {},
   "source": [
    "### Fill model"
   ]
  },
  {
   "cell_type": "code",
   "execution_count": null,
   "metadata": {},
   "outputs": [],
   "source": [
    "# Fill model\n",
    "filled_model = gfbc.fill_model(model)"
   ]
  },
  {
   "cell_type": "code",
   "execution_count": null,
   "metadata": {},
   "outputs": [],
   "source": [
    "write_model_to_file(filled_model, '../data/iJN1463_filled.xml')"
   ]
  },
  {
   "cell_type": "markdown",
   "metadata": {},
   "source": [
    "### Statistics"
   ]
  },
  {
   "cell_type": "code",
   "execution_count": null,
   "metadata": {},
   "outputs": [],
   "source": [
    "# Get raw statistics\n",
    "gfbc.report('../data/')"
   ]
  }
 ],
 "metadata": {
  "kernelspec": {
   "display_name": "rgsp312",
   "language": "python",
   "name": "python3"
  },
  "language_info": {
   "codemirror_mode": {
    "name": "ipython",
    "version": 3
   },
   "file_extension": ".py",
   "mimetype": "text/x-python",
   "name": "python",
   "nbconvert_exporter": "python",
   "pygments_lexer": "ipython3",
   "version": "3.12.10"
  }
 },
 "nbformat": 4,
 "nbformat_minor": 4
}
