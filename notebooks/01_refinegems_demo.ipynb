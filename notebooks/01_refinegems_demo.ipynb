{
 "cells": [
  {
   "cell_type": "markdown",
   "id": "40f41bbf",
   "metadata": {},
   "source": [
    "# Hands-On Session I: First steps with GEMs and basic functions of the toolbox refineGEMs\n",
    "\n",
    "In this notebook, you will get first-hand experience on how to load genome-scale metabolic models and extract basic information from them.\n",
    "Additionally, some of the basic functionalities of the toolbox ``refineGEMs`` are introduced. Some code blocks can be executed directly, other may require some input. \n",
    "\n",
    "If you get stuck, feel free to ask or take a look at the provided solutions."
   ]
  },
  {
   "cell_type": "markdown",
   "id": "0dcc35e6",
   "metadata": {},
   "source": [
    "## Getting Data and Loading a GEM\n",
    "\n",
    "Over the year, many genome-scale metabolic models have been published, many of which remain in the supplementals of their corresponding paper. However, there are two main databases for models of this type, [BioModels](https://www.ebi.ac.uk/biomodels/) and [BiGG Models](http://bigg.ucsd.edu). In the context of this notebook, we will use a model from the BiGG Models database with the identifier [`iJN1463`](http://bigg.ucsd.edu/models/iJN1463).\n",
    "\n",
    "`iJN1463` is a model for *Pseudomonas putida* KT2440, a pollutant degrative bacteria, pushing it into the focus of industrial biotechnology [^1]. \n",
    "\n",
    "As mentioned in the slides, there are two main libraries, COBRApy[^2] and libSBML[^3], for loading models. Each has their own object type for the GEMs, both with their own adcantages and disadvantages. Since this notebook is about the basics and information extraction, it will focus on the COBRApy model object, as information extraction is easier on that object type.\n",
    "\n",
    "📝 **Task**\n",
    "\n",
    "1. Download the model with the accession number `iJN1463` from BiGG Models using, e.g. the package `requests`.\n",
    "2. Load the model with `refineGEMs` as a COBRApy model in a variable called `cobramodel`.\n",
    "\n",
    "\n",
    "<font color=\"grey\">\n",
    "\n",
    "[^1]: Duque E, Monk J, Feist AM, Ramos JL, Niu W, Palsson BO. High-quality genome-scale metabolic modelling of Pseudomonas putida highlights its broad metabolic capabilities. Environ Microbiol. 2020 Jan;22(1):255-269. doi: 10.1111/1462-2920.14843. Epub 2019 Nov 11. PMID: 31657101; PMCID: PMC7078882.\n",
    "[^2]: Ebrahim, A., Lerman, J.A., Palsson, B.O. et al. COBRApy: COnstraints-Based Reconstruction and Analysis for Python. BMC Syst Biol 7, 74 (2013). https://doi.org/10.1186/1752-0509-7-74\n",
    "[^3]: Bornstein, B. J., Keating, S. M., Jouraku, A., and Hucka, M. (2008) LibSBML: An API Library for SBML. Bioinformatics, 24(6):880-881. \n",
    "</font>"
   ]
  },
  {
   "cell_type": "code",
   "execution_count": null,
   "id": "6d4812ce",
   "metadata": {},
   "outputs": [],
   "source": [
    "# Your code goes here"
   ]
  },
  {
   "cell_type": "markdown",
   "id": "834b70d9",
   "metadata": {},
   "source": [
    "<details>\n",
    "<summary>🔑 Click to see the answer 🔑</summary>\n",
    "\n",
    "Here is the code for the task:\n",
    "\n",
    "```python\n",
    "# Imports\n",
    "import requests # For model download\n",
    "from refinegems.utility.io import load_model\n",
    "\n",
    "# Get a model from BiGG\n",
    "resp = requests.get('http://bigg.ucsd.edu/static/models/iJN1463.xml')\n",
    "with open('./data/iJN1463.xml', 'w') as file: file.write(resp.text)\n",
    "\n",
    "# Read in model_file path\n",
    "model_file = './data/iJN1463.xml'\n",
    "\n",
    "# Load a model with COBRApy\n",
    "cobramodel = load_model(model_file, 'cobra')\n",
    "\n",
    "```\n",
    "\n",
    "</details>"
   ]
  },
  {
   "cell_type": "markdown",
   "id": "a53e9096",
   "metadata": {},
   "source": [
    "## What is in the model?\n",
    "\n",
    "When working inside a Jupyter notebook, the easiest way to quickly get some information about a COBRApy model is to simply return it:"
   ]
  },
  {
   "cell_type": "code",
   "execution_count": null,
   "id": "91d46dd0",
   "metadata": {},
   "outputs": [],
   "source": [
    "cobramodel"
   ]
  },
  {
   "cell_type": "markdown",
   "id": "72176a31",
   "metadata": {},
   "source": [
    "Another option is the `summary` method of the COBRApy model object:"
   ]
  },
  {
   "cell_type": "code",
   "execution_count": null,
   "id": "472bdc68",
   "metadata": {},
   "outputs": [],
   "source": [
    "cobramodel.summary()"
   ]
  },
  {
   "cell_type": "markdown",
   "id": "7cc88e85",
   "metadata": {},
   "source": [
    "To get a more refined and presentable format of the basic model content, one can use the `ModelInfoReport` from the `refinegems.classes.reports` module. Like all child classes of the report class, it provides methods for presenting the extracted data in table format or as a graphical representation. \n",
    "\n",
    "📝 **Task**\n",
    "\n",
    "Generate a `ModelInfoReport` for the loaded model and visualise its content."
   ]
  },
  {
   "cell_type": "code",
   "execution_count": null,
   "id": "33452ff6",
   "metadata": {},
   "outputs": [],
   "source": [
    "# Your code goes here"
   ]
  },
  {
   "cell_type": "markdown",
   "id": "fdaea29d",
   "metadata": {},
   "source": [
    "<details>\n",
    "<summary>🔑 Click to see the answer 🔑</summary>\n",
    "\n",
    "Here is the code for the task:\n",
    "\n",
    "```python\n",
    "# Imports\n",
    "from refinegems.classes.reports import ModelInfoReport\n",
    "\n",
    "# Initialse model statistics report object\n",
    "model_info = ModelInfoReport(cobramodel)\n",
    "model_info\n",
    "\n",
    "# Get visualisation of model statistics\n",
    "model_info.visualise()\n",
    "```\n",
    "\n",
    "</details>"
   ]
  },
  {
   "cell_type": "markdown",
   "id": "a1233cbf",
   "metadata": {},
   "source": [
    "## Simulation\n",
    "\n",
    "A good model does not need to be perfect but it should work well for its intended purpose - this is also true for GEMs.\n",
    "\n",
    "In the case of GEMs, simulation usually means optimising the flux values of a model for an objective function. Depending on which biological goal should be prioretised, a different objective function has to be used. Here, we will focus on the overall growth of the bacteria, modelled by the so called biomass objective function. The biomass objective function is a sum over all compounds needed for a bacterium to grow and perform a cell division. \n",
    "\n",
    "### Biomass objective function\n",
    "\n",
    "The currently set objective function of a model can be accessed with:"
   ]
  },
  {
   "cell_type": "code",
   "execution_count": null,
   "id": "a9ec384b",
   "metadata": {},
   "outputs": [],
   "source": [
    "from refinegems.utility.util import test_biomass_presence\n",
    "\n",
    "# Test biomass presence & get biomass reactions from model\n",
    "biomass_reacs = test_biomass_presence(cobramodel)\n",
    "biomass_reacs"
   ]
  },
  {
   "cell_type": "markdown",
   "id": "8ef37585",
   "metadata": {},
   "source": [
    "For the mathemaical and chemical consistency of the model, the biomass function(s) should be normalised:"
   ]
  },
  {
   "cell_type": "code",
   "execution_count": null,
   "id": "6b1f3108",
   "metadata": {},
   "outputs": [],
   "source": [
    "from refinegems.curation.biomass import check_normalise_biomass\n",
    "from refinegems.utility.util import test_biomass_consistency\n",
    "\n",
    "# Test biomass consistency\n",
    "test_biomass_consistency(cobramodel, biomass_reacs[0])\n",
    "\n",
    "# Fix biomass consistency\n",
    "cobramodel = check_normalise_biomass(cobramodel)\n",
    "\n",
    "# Test biomass consistency\n",
    "test_biomass_consistency(cobramodel, biomass_reacs[0])"
   ]
  },
  {
   "cell_type": "markdown",
   "id": "3804c138",
   "metadata": {},
   "source": [
    "### Media\n",
    "\n",
    "Since a model does not grow in isolation, one needs a medium, which provides the nutrients for the model to grow on. The toolbox refineGEMs incorparates an *in silico* media database with multiple media to choose from. \n",
    "\n",
    "Additionally, the `medium` class provides functionalities to load, manipulate and save media"
   ]
  },
  {
   "cell_type": "code",
   "execution_count": null,
   "id": "9abae466",
   "metadata": {},
   "outputs": [],
   "source": [
    "from refinegems.classes import medium\n",
    "\n",
    "# load the M9 medium from the database \n",
    "m9ext = medium.load_medium_from_db(\"M9\")\n",
    "\n",
    "# change the default flux \n",
    "m9ext.set_default_flux(flux = 5.0, double_o2 = True)\n",
    "\n",
    "# check the carbon source\n",
    "print(f\"old carbon source: {m9ext.get_source(\"C\")}\")\n",
    "\n",
    "# change the carbon source\n",
    "m9ext.set_source(\"C\", \"2-Oxidopropane-1,2,3-tricarboxylate [Citrate]\")\n",
    "print(f\"new carbon source: {m9ext.get_source(\"C\")}\")\n",
    "\n",
    "# check, if the medium is aerobic\n",
    "m9ext.is_aerobic()"
   ]
  },
  {
   "cell_type": "markdown",
   "id": "7a0c8573",
   "metadata": {},
   "source": [
    "📝 **Task**\n",
    "\n",
    "Build (at least) two more media. \n",
    "\n",
    "* An anaerobic LB medium. This is a typical medium, that can be tested in a lab.\n",
    "    - default flux 5.0\n",
    "* A mixture of basal medium (medium, BMS23) and artifical sweat (medium, artSw). This is based on the configuration for a skin medium for Pseudomonadota for the highest OD, see [Swaney et al.](https://doi.org/10.1128/spectrum.04180-22), Figure 4.\n",
    "    - default flux 10.0, twice the amount of sweat compared to basal\n",
    "    - make sure its aerobic\n",
    "* Feel free to create more, if you finish early!\n",
    "\n",
    "You can either use a configuration file (see `../data/example_media_config.yaml`) for this task or directly build the media in this notebook."
   ]
  },
  {
   "cell_type": "code",
   "execution_count": null,
   "id": "2ac03217",
   "metadata": {},
   "outputs": [],
   "source": [
    "# Your code goes here"
   ]
  },
  {
   "cell_type": "markdown",
   "id": "172b3155",
   "metadata": {},
   "source": [
    "<details>\n",
    "<summary>🔑 Click to see the answer 🔑</summary>\n",
    "\n",
    "If you wrote & loaded a config:\n",
    "\n",
    "```python\n",
    "# Imports\n",
    "from refinegems.utility.set_up import download_config\n",
    "\n",
    "# Get media file\n",
    "media_file_path = './test_files/media_config.yml'\n",
    "media_list, suppl_list = download_config(media_file_path, 'media')\n",
    "```\n",
    "\n",
    "If you did it by hand:\n",
    "\n",
    "```\n",
    "from refinegems.classes import medium\n",
    "\n",
    "# LB_an\n",
    "\n",
    "lban = medium.load_medium_from_db(\"LB\")\n",
    "lban.make_anaerobic()\n",
    "lban.set_default_flux(flux = 5.0)\n",
    "\n",
    "# SwSe_new\n",
    "basw = medium.load_medium_from_db(\"BMS23\")\n",
    "basw.combine(medium.load_medium_from_db(\"artSw\"), (1.0,2.0))\n",
    "basw.set_default_flux(flux = 10.0)\n",
    "basw.is_aerobic()\n",
    "```\n",
    "\n",
    "</details>"
   ]
  },
  {
   "cell_type": "markdown",
   "id": "e4873d26",
   "metadata": {},
   "source": [
    "Finally, collect all media in a list."
   ]
  },
  {
   "cell_type": "code",
   "execution_count": null,
   "id": "2714c923",
   "metadata": {},
   "outputs": [],
   "source": [
    "media_list = [m9ext, ...] # add your media here"
   ]
  },
  {
   "cell_type": "markdown",
   "id": "c58ab409",
   "metadata": {},
   "source": [
    "### Growth\n",
    "\n",
    "Now we have everything ready to simulate the growth of the model on the different media:"
   ]
  },
  {
   "cell_type": "code",
   "execution_count": null,
   "id": "ac55baa6",
   "metadata": {},
   "outputs": [],
   "source": [
    "with cobramodel: # changes are not applied to the model\n",
    "    # add one medium to model \n",
    "    medium.medium_to_model(cobramodel, m9ext)\n",
    "\n",
    "    # optimise fluxes \n",
    "    solution = cobramodel.optimize()\n",
    "\n",
    "    # return the growth rate\n",
    "    solution.objective_value"
   ]
  },
  {
   "cell_type": "markdown",
   "id": "d8b117d1",
   "metadata": {},
   "source": [
    "To produce these results quickly and easily for multiple media - like the media list or the media configuration file - refineGEMs provides functionalities for exactly that.\n",
    "In addition to just producing the growth rates, the doubling times and even graphical output can be produced to easily share the results with other bioinformaticians but also the collaborators in the laboratory.\n",
    "\n",
    "All functionalities for the growth analyses can be found in the `refinegems.analysis.growth` module. In this block, the function `growth_analysis` will be needed. It can perform a growth analysis on any number of media and models and returns a `GrowthSimulationReport`, containing all the information from the different simulations.\n",
    "\n",
    "📝 **Task**\n",
    "\n",
    "Perform a growth test using the (COBRApy) model used in this notebook and the previously generated media configuration file or list of media objects. \n",
    "Present the result both in table format and as a plot of the doubling times. \n",
    "\n",
    "What do the results show?"
   ]
  },
  {
   "cell_type": "code",
   "execution_count": null,
   "id": "0ee66285",
   "metadata": {},
   "outputs": [],
   "source": [
    "# Your code goes here"
   ]
  },
  {
   "cell_type": "markdown",
   "id": "b5c5ba13",
   "metadata": {},
   "source": [
    "<details>\n",
    "<summary>🔑 Click to see the answer 🔑</summary>\n",
    "\n",
    "Here is the code for the task:\n",
    "\n",
    "```python\n",
    "# Imports\n",
    "from refinegems.analysis.growth import growth_analysis\n",
    "\n",
    "# A: Growth analysis using config\n",
    "report = growth_analysis(cobramodel, media_file_path, retireve=\"report\")\n",
    "\n",
    "# B: Growth analysis using list\n",
    "report = growth_analysis(cobramodel, media_list, supplements = None, retrieve=\"report\")\n",
    "# supplements can be chosen differently\n",
    "\n",
    "# Generate the results table\n",
    "res_table = report.to_table()\n",
    "res_table\n",
    "\n",
    "# Visualise the information \n",
    "res_fig = report.plot_growth(unit=\"dt\")\n",
    "res_fig\n",
    "\n",
    "```\n",
    "\n",
    "</details>"
   ]
  },
  {
   "cell_type": "markdown",
   "id": "dc6de0f2",
   "metadata": {},
   "source": [
    "# ⭐️ Bonus \n",
    "\n",
    "### Extending the model \n",
    "\n",
    "As mentioned in the slides, sometimes, growth simulations do not lead to the expected results. Or one finds new evidence for more functions for the modelled organisms. Or maybe one just wants to test, whether an added reaction has an impact on the observed growth. In any case, the model needs to be extended. \n",
    "\n",
    "`refineGEMs` provides functionalities for adding metabolites and/or reactions from an ID or from a reaction string for the BiGG, MetaNetX or KEGG databases. \n",
    "\n",
    "📝 **Task**\n",
    "\n",
    "Pick some KEGG (KEGG organism ID: `ppu`), MetaNetX or BiGG IDs and/or reactions, that you would like to add to the model. Alternatively, it is also possible to construct a reaction string in any of the three database formats by hand. \n",
    "\n",
    "Add the reaction(s) to the model. Does this influence the statistics and/or growth of the model? \n",
    "\n",
    "*Note:* Iteratively extending the model based on literature research or laboratory results is a very common practice of the manual curation of high-quality genome-scale metabolic models."
   ]
  },
  {
   "cell_type": "code",
   "execution_count": null,
   "id": "d719b2fc",
   "metadata": {},
   "outputs": [],
   "source": [
    "# Your code goes here"
   ]
  },
  {
   "cell_type": "markdown",
   "id": "b9e6efe2",
   "metadata": {},
   "source": [
    "<details>\n",
    "<summary>🔑 Click to see the answer 🔑</summary>\n",
    "\n",
    "Here is the code for the task:\n",
    "\n",
    "```python\n",
    "\n",
    "# Generate a reaction via ID, e.g. ID for UDP-glucose:NAD+ 6-oxidoreductase\n",
    "new_reac1 = build_reaction_kegg(cobramodel, id='R00286')\n",
    "\n",
    "# Generate a reaction via reaction string, e.g. reaction string for 2-dehydro-L-idonate:NADP+ 5-oxidoreductase\n",
    "new_reac2 = build_reaction_kegg(cobramodel, reac_str='C15673 + C00006 <=> C02780 + C00005 + C00080')\n",
    "\n",
    "# Add reaction to model\n",
    "cobramodel.add_reactions([new_reac1, new_reac2])\n",
    "\n",
    "# Look at statistics, e.g. via ModelInfoReport\n",
    "# Initialse model statistics report object\n",
    "model_info = ModelInfoReport(cobramodel)\n",
    "model_info\n",
    "\n",
    "# Get visualisation of model statistics\n",
    "model_info.visualise()\n",
    "\n",
    "# Check growth, e.g. via \n",
    "# Growth analysis using list\n",
    "report = growth_analysis(cobramodel, media_list, supplements = None, retrieve=\"report\")\n",
    "\n",
    "# Generate the results table\n",
    "res_table = report.to_table()\n",
    "res_table\n",
    "\n",
    "# Visualise the information \n",
    "res_fig = report.plot_growth(unit=\"dt\")\n",
    "res_fig\n",
    "```\n",
    "\n",
    "</details>"
   ]
  }
 ],
 "metadata": {
  "language_info": {
   "name": "python"
  }
 },
 "nbformat": 4,
 "nbformat_minor": 5
}
