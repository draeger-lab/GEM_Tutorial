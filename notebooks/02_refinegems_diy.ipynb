{
 "cells": [
  {
   "cell_type": "markdown",
   "id": "264f9904",
   "metadata": {
    "vscode": {
     "languageId": "plaintext"
    }
   },
   "source": [
    "# Hands-On Session II: Advanced funtions of the toolbox refineGEMs\n",
    "In this notebook you will get first-hand experience on more advanced functionalities provided by ``refineGEMs``.\n",
    "Due to the large number of functionalities in the toolbox, this notebook will only focus on a small subset to give you an idea of what is possible.\n",
    "\n",
    "The covered functionalities include:\n",
    "- Advanced simulations\n",
    "- Model extension by automated gap-filling\n",
    "- Indentifying energy generating cycles\n",
    "- Handle duplicates and pruning metabolites\n",
    "\n",
    "Some more functinalities are inluded in the bonus task, hopefully incuraging to explore more functionalities of the toolbox ``refineGEMs`` by yourself.\n",
    "As in the first notebook, the hidden solutions may help you, if you get stuck.\n"
   ]
  },
  {
   "cell_type": "markdown",
   "id": "0599e1a5",
   "metadata": {},
   "source": [
    "## Advanced Simulations\n",
    "Now that we covered basic simulations we can go to more advanced methods. \n",
    "These include auxotrophy tests and source tests. \n",
    "\n",
    "Auxotrophy tests show if an organism is dependent on certain amino acids or if certain amino acids can be produced by \n",
    "the organism, respectively. \n",
    "\n",
    "Source tests specify which substances can be used as elemental sources like e.g. nitrogen, carbon and sulfur.\n",
    "\n",
    "In the following you will use functions from refineGEMs to find out about the auxotrophies and usable sources for carbon for \n",
    "*Pseudomonas putida*."
   ]
  },
  {
   "cell_type": "code",
   "execution_count": null,
   "id": "37d2a55e",
   "metadata": {},
   "outputs": [],
   "source": [
    "# Imports\n",
    "from refinegems.utility.io import load_model\n",
    "\n",
    "# Loading the model from Notebook I\n",
    "model_file = '../data/iJN1463.xml'\n",
    "\n",
    "# Load the model with COBRApy\n",
    "cobramodel = load_model(model_file, 'cobra')\n",
    "cobramodel"
   ]
  },
  {
   "cell_type": "markdown",
   "id": "5b6d2d09",
   "metadata": {},
   "source": [
    "### Auxotrophy test\n",
    "📝 **Task**\n",
    "\n",
    "Perform an amino acid auxotrophy test on the model. If you already have created a media configuration file in the previous notebook, feel free to use that one for testing, otherwise you either create one or just use one or more media from the database.\n",
    "\n",
    "Generate an auxotrophy test report for the model and visualise it."
   ]
  },
  {
   "cell_type": "code",
   "execution_count": null,
   "id": "43ea5840",
   "metadata": {},
   "outputs": [],
   "source": [
    "# Your code goes here"
   ]
  },
  {
   "cell_type": "markdown",
   "id": "550e6043",
   "metadata": {},
   "source": [
    "<details>\n",
    "<summary>🔑 Click to see the answer 🔑</summary>\n",
    "\n",
    "Here is the code for the task:\n",
    "\n",
    "```python\n",
    "# Imports\n",
    "from refinegems.analysis.growth import test_auxotrophies \n",
    "from refinegems.classes.medium import load_media, load_medium_from_db\n",
    "\n",
    "# load media ...\n",
    "# ... from configuration file\n",
    "media_list, suppl_list = load_media(\"./media_config.yaml\")\n",
    "# ... from database\n",
    "media_list = [load_medium_from_db(\"LB\"), load_medium_from_db(\"SNM3\"), load_medium_from_db(\"M9\")]\n",
    "suppl_list = [None, \"min\", \"std\"] # can be any combination of None or \"min\" \n",
    "\n",
    "# Perform test and get report\n",
    "auxo_report = test_auxotrophies(\n",
    "    cobramodel,\n",
    "    media_list,\n",
    "    suppl_list\n",
    ") \n",
    "\n",
    "# Visualise results\n",
    "auxo_report.visualise_auxotrophies()\n",
    "```\n",
    "\n",
    "</details>"
   ]
  },
  {
   "cell_type": "markdown",
   "id": "21bf78aa",
   "metadata": {},
   "source": [
    "### Source test\n",
    "📝 **Task**\n",
    "\n",
    "Perform a source test for the model to identify possible carbon sources. \n",
    "To find a suitable minimal medium for growth, test the growth of the model with the M9 medium and minimal supplementation.\n",
    "Create a medium from M9 and the supplemented materials to use for the source tests.\n",
    "\n",
    "Generate a source test report and visualise it."
   ]
  },
  {
   "cell_type": "code",
   "execution_count": null,
   "id": "7d04b505",
   "metadata": {},
   "outputs": [],
   "source": [
    "# Your code goes here"
   ]
  },
  {
   "cell_type": "markdown",
   "id": "9b66401d",
   "metadata": {},
   "source": [
    "<details>\n",
    "<summary>🔑 Click to see the answer 🔑</summary>\n",
    "\n",
    "Here is the code for the task:\n",
    "\n",
    "```python\n",
    "# Imports\n",
    "from refinegems.analysis.growth import test_growth_with_source, growth_analysis\n",
    "from refinegems.classes import medium\n",
    "\n",
    "# Growth analysis using list\n",
    "report = growth_analysis(cobramodel, media_list, supplements = \"min\", retrieve=\"report\")\n",
    "\n",
    "# Generate the results table\n",
    "res_table = report.to_table()\n",
    "additives = res_table.additives[0]\n",
    "\n",
    "# Generate new media\n",
    "m9 = medium.load_medium_from_db(\"M9\")\n",
    "medium.medium_to_model(cobramodel, m9)\n",
    "cobramodel.medium = cobramodel.medium + additives\n",
    "\n",
    "# Get report\n",
    "source_report = test_growth_with_source(\n",
    "    cobramodel,\n",
    "    element = \"C\"\n",
    ") \n",
    "\n",
    "# Visualise results\n",
    "source_report.visualise()\n",
    "```\n",
    "\n",
    "</details>"
   ]
  },
  {
   "cell_type": "markdown",
   "id": "10877b24",
   "metadata": {},
   "source": [
    "## Extending the model \n",
    "One of the major tasks in generating and curating models is to find gaps as not all genes or reactions might already be \n",
    "in the model or information on them is too sparse for automatic addition to the model.\n",
    "\n",
    "Within refineGEMs we have three GapFillers that tackle this problem based on database information or the GFF file. \n",
    "Some manual work still has to be done in the end but the task is tackled faster.\n",
    "\n",
    "You already saw how individual metabolites and reactions can be build with refineGEMs. \n",
    "This functionality is used to add genes and reactions found as missing from the model to the model. \n",
    "\n",
    "For all GapFillers the according data is provided in the data folder.\n",
    "\n",
    "Here are some run time specifications for each of the GapFillers in refineGEMs:\n",
    "- GeneGapFiller: $\\approx$ 5 min\n",
    "- BioCycGapFiller: $\\approx$ 3s\n",
    "- KEGGapFiller: $\\approx$ 2h 10m\n",
    "\n",
    "📝 **Task**\n",
    "\n",
    "\n",
    "Due to time reasons it would be best if you use either the Gene- or the BioCycGapFiller. \n",
    "Please also get the report.\n",
    "\n",
    "Example calls for all three GapFillers with the corresponding command line results can be found in the Notebook \n",
    "`gapfill.ipynb`."
   ]
  },
  {
   "cell_type": "code",
   "execution_count": null,
   "id": "7eaa1fad",
   "metadata": {},
   "outputs": [],
   "source": [
    "# Your code goes here"
   ]
  },
  {
   "cell_type": "markdown",
   "id": "96ff0b95",
   "metadata": {},
   "source": [
    "<details>\n",
    "<summary>🔑 Click to see the answer 🔑</summary>\n",
    "\n",
    "Here is the code for the task:\n",
    "\n",
    "```python\n",
    "# Imports\n",
    "from refinegems.classes.reports import BioCycGapFiller\n",
    "\n",
    "# Load model as libSBML model, required for most of the parts of a GapFiller\n",
    "libmodel = load_model(model_file, 'libsbml')\n",
    "\n",
    "# Get files required for the BioCycGapFiller\n",
    "gffpath = '../data/GCA_000007565.2_ASM756v2_genomic.gff'\n",
    "biocyc_gene_tbl_path = '../data/PputKT2440_Accession-22Reactions.tsv'\n",
    "biocyc_reacs_tbl_path = '../data/PputKT2440_biocyc_rxns.tsv'\n",
    "fasta = '../data/GCA_000007565.2_ASM756v2_translated_cds.faa'\n",
    "\n",
    "# Initialise GapFiller\n",
    "gfbc = BioCycGapFiller(biocyc_gene_tbl_path, biocyc_reacs_tbl_path, gffpath)\n",
    "\n",
    "# Find missing genes\n",
    "gfbc.find_missing_genes(model)\n",
    "# Table with missing genes stored in: gfbc.missing_genes\n",
    "\n",
    "# Find missing reactions\n",
    "gfbc.find_missing_reactions(cmodel)\n",
    "# Table with missing reactions stored in: gfbc.missing_reactions\n",
    "\n",
    "# Fill model\n",
    "filled_model = gfbc.fill_model(model)\n",
    "# Can be written to file with: \n",
    "# from refinegems.utility.io import write_model_to_file\n",
    "# write_model_to_file(filled_model, '../data/iJN1463_filled.xml')\n",
    "\n",
    "# Get statistics\n",
    "gfbc.report('../data/')\n",
    "```\n",
    "\n",
    "</details>"
   ]
  },
  {
   "cell_type": "markdown",
   "id": "845ba28d",
   "metadata": {},
   "source": [
    "⭐️ **Bonus**\n",
    "\n",
    "You can try to use the other GapFillers that you did not try so far.\n",
    "\n",
    "*Note:* This will most likely take more time than the workshop provides if you use the KEGGapFiller."
   ]
  },
  {
   "cell_type": "code",
   "execution_count": null,
   "id": "817c4dc5",
   "metadata": {},
   "outputs": [],
   "source": [
    "# Your code goes here"
   ]
  },
  {
   "cell_type": "markdown",
   "id": "ce46b388",
   "metadata": {},
   "source": [
    "## EGCs\n",
    "Energy generating cycles happen in a model due to wrong reaction directions, missing information, wrongly added reactions from a \n",
    "template/universal model if the model was created with one. However, since these cycles are thermodynamically infeasible, they need to be identified and removed.\n",
    "\n",
    "Within refineGEMs the EGCSolver base class offers the functionality to find EGCs in a model. \n",
    "The child class GreedyEGCSolver offers in addition to finding EGCs a method to solve EGCs greadily. However, it is restricted to solving EGCs that are solvable by chaning at most one reaction for each type.\n",
    "\n",
    "📝 **Task**\n",
    "\n",
    "1. Download the model [`iJN746`](http://bigg.ucsd.edu/models/iJN746) from BiGG like in Notebook I - 01_refinegems_demo.ipynb.\n",
    "2. Identify EGCs in the model `iJN1463` and in the model `iJN746` and determine the possible reasoning behind the EGCs."
   ]
  },
  {
   "cell_type": "code",
   "execution_count": null,
   "id": "84be8946",
   "metadata": {},
   "outputs": [],
   "source": [
    "# Your code goes here"
   ]
  },
  {
   "cell_type": "markdown",
   "id": "4dabd55e",
   "metadata": {},
   "source": [
    "<details>\n",
    "<summary>🔑 Click to see the answer 🔑</summary>\n",
    "\n",
    "Here is the code for the task:\n",
    "\n",
    "```python\n",
    "# Imports\n",
    "from refinegems.classes.egcs import EGCSolver\n",
    "\n",
    "# Initialise EGCSolver\n",
    "egc_solver = EGCSolver()\n",
    "\n",
    "# Find EGCs in iJN1463\n",
    "egc_dict, reacs = egc_solver.find_egcs(cobramodel, with_reacs=True)\n",
    "\n",
    "# Display energy metabolites for which EGCs exist\n",
    "egc_dict\n",
    "\n",
    "# Display reactions that cause/are involved in EGCs\n",
    "reacs\n",
    "\n",
    "# Find EGCS in iJN746\n",
    "egc_dict2, reacs2 = egc_solver.find_egcs(cobramodel2, with_reacs=True)\n",
    "\n",
    "# Display energy metabolites for which EGCs exist\n",
    "egc_dict2\n",
    "\n",
    "# Display reactions that cause/are involved in EGCs\n",
    "reacs2\n",
    "```\n",
    "\n",
    "</details>"
   ]
  },
  {
   "cell_type": "markdown",
   "id": "18dc4123",
   "metadata": {},
   "source": [
    "⭐️ **Bonus**\n",
    "\n",
    "You can only use the greedy EGC solver to attempt to solve the EGCs. \n",
    "\n",
    "*Note:* This will take more time than the workshop provides. Due to the amount of cores in the Codespace the run time is too long. If you want to try that, please, copy the notebook and try it on your computer locally."
   ]
  },
  {
   "cell_type": "code",
   "execution_count": null,
   "id": "85a37274",
   "metadata": {},
   "outputs": [],
   "source": [
    "# Your code goes here"
   ]
  },
  {
   "cell_type": "markdown",
   "id": "7c5d6712",
   "metadata": {},
   "source": [
    "<details>\n",
    "<summary>🔑 Click to see the answer 🔑</summary>\n",
    "\n",
    "Here is the code for the task:\n",
    "\n",
    "```python\n",
    "# Imports\n",
    "from refinegems.classes.egcs import GreedyEGCSolver\n",
    "\n",
    "# Initialise EGCSolver\n",
    "egc_solver = GreedyEGCSolver()\n",
    "\n",
    "# Find and try to solve EGCs\n",
    "results = egc_solver.solve_egcs(cobramodel)\n",
    "\n",
    "# Display results\n",
    "results\n",
    "```\n",
    "\n",
    "</details>"
   ]
  },
  {
   "cell_type": "markdown",
   "id": "813ba2ab",
   "metadata": {},
   "source": [
    "## Duplicates \n",
    "Due to inconsistent naming within a database namespace or identifiers used within a model from different databases \n",
    "the same metabolites or reactions can be found in one model. \n",
    "To reduce these duplicates refineGEMs offers three functions in its ``curation.curate`` module: \n",
    "\n",
    "- one for metabolites `resolve_duplicate_metabolites`\n",
    "- one for reactions, `resolve_duplicate_reactions`, and \n",
    "- a combined one `resolve_duplicates` \n",
    "\n",
    "While checking and resolving reactions is a yes or no case, the options for metabolites offer more flexibility. \n",
    "The removal can either be skipped, performed on the default setting, or by performing an exhaustive search. The difference between the last two is a trade off between performance and completeness. The default uses the MetaNetX IDs as a seed for searching for duplicates while the exhaustive one iteratively uses every database as the seed, which drastically increases the runtime, but potentially identifies more duplicates, as the default version requires the metabolites to have a MetaNetX ID to be included in the matching. \n",
    "\n",
    "Lastly, unused metabolites - metabolites, that are no longer connected to any reaction - can be removed from the model. This is called *pruning of metabolites*.\n",
    "\n",
    "📝 **Task**\n",
    "\n",
    "1. Try to identify and remove duplicates from the model in a meaningful way.\n",
    "2. Try pruning the metabolites of the model and see, if this has effect (e.g. using `len(cobramodel.metabolites)` or growth test)"
   ]
  },
  {
   "cell_type": "code",
   "execution_count": null,
   "id": "e011398b",
   "metadata": {},
   "outputs": [],
   "source": [
    "# Your code goes here"
   ]
  },
  {
   "cell_type": "markdown",
   "id": "c7072c02",
   "metadata": {},
   "source": [
    "<details>\n",
    "<summary>🔑 Click to see the answer 🔑</summary>\n",
    "\n",
    "Here is the code for the task:\n",
    "\n",
    "```python\n",
    "# Import\n",
    "from refinegems.curation.curate import resolve_duplicates\n",
    "\n",
    "cobramodel = resolve_duplicates(\n",
    "    cobramodel,\n",
    "    check_reac: bool = True,\n",
    "    check_meta = \"default\",\n",
    "    replace_dupl_meta = True,\n",
    "    remove_dupl_reac = True,\n",
    ")\n",
    "\n",
    "with cobramodel as testmodel: # changes are not applied to the model\n",
    "    print(len(testmodel.metabolites))\n",
    "        testmodel = resolve_duplicates(\n",
    "        testmodel,\n",
    "        check_reac = False,\n",
    "        check_meta = \"skip\",\n",
    "        remove_unused_meta = True,\n",
    "        replace_dupl_meta = False,\n",
    "        remove_dupl_reac = False,\n",
    "    )    \n",
    "    print(len(testmodel.metabolites))\n",
    "```\n",
    "\n",
    "</details>"
   ]
  },
  {
   "cell_type": "markdown",
   "id": "875956cf",
   "metadata": {},
   "source": [
    "## ⭐️ Bonus\n",
    "If you already finished the tasks and still want to go further, you can try other curation functions in the \n",
    "`curation` modules, like:\n",
    "\n",
    "- `miriam.polish_annotations` to clean-up annotations in a model\n",
    "- `miriam.change_all_qualifiers` to clean-up the RDF bags of the annotations in a model\n",
    "- `pathways.set_kegg_pathways` to add KEGG Pathways to a model\n",
    "\n",
    "📝 **Task**\n",
    "\n",
    "- Clean-up annotations in the model\n",
    "- Add KEGG Pathways to the model\n",
    "\n",
    "*Note:* Adding KEGG Pathways will most likely take more time than the workshop provides."
   ]
  },
  {
   "cell_type": "code",
   "execution_count": null,
   "id": "e25bf403",
   "metadata": {},
   "outputs": [],
   "source": [
    "# Your code goes here"
   ]
  },
  {
   "cell_type": "markdown",
   "id": "68ff9ca4",
   "metadata": {},
   "source": [
    "<details>\n",
    "<summary>🔑 Click to see the answer 🔑</summary>\n",
    "\n",
    "Here is the code for the task:\n",
    "\n",
    "```python\n",
    "# Imports\n",
    "from refinegems.curation.miriam import change_all_qualifiers, polish_annotations\n",
    "from refinegems.curation.pathways import set_kegg_pathways\n",
    "\n",
    "# Clean-up annotations in the model\n",
    "model_w_cleaned_annots = polish_annotations(libmodel, new_pattern=True, outpath = '../data/')\n",
    "model_w_cleaned_annots = change_all_qualifiers(model_w_cleaned_annots, lab_strain=False)\n",
    "\n",
    "# If you want to save the model\n",
    "write_model_to_file(model_w_cleaned_annots, '../data/iJN1463_cleaned.xml')\n",
    "\n",
    "# Set KEGG Pathways\n",
    "from refinegems.curation.pathways import set_kegg_pathways\n",
    "\n",
    "non_kegg_rxns = set_kegg_pathways(libmodel, viaEC=True, viaRC=True)\n",
    "print(f'Amount of reactions without KEGG Reaction ID: {len(non_kegg_rxns)}')\n",
    "\n",
    "# If you want to save the model\n",
    "write_model_to_file(libmodel, '../data/iJN1463_with_pathways.xml')\n",
    "```\n",
    "\n",
    "</details>"
   ]
  }
 ],
 "metadata": {
  "kernelspec": {
   "display_name": "rgsp312",
   "language": "python",
   "name": "python3"
  },
  "language_info": {
   "name": "python",
   "version": "3.12.10"
  }
 },
 "nbformat": 4,
 "nbformat_minor": 5
}
